{
  "cells": [
    {
      "cell_type": "markdown",
      "metadata": {
        "id": "view-in-github",
        "colab_type": "text"
      },
      "source": [
        "<a href=\"https://colab.research.google.com/github/ijoonc/Krauss-Lab-Tribology-Image-Processing-Simulator/blob/main/Krauss_Lab_Tribology_Machine_Learning_Algorithm.ipynb\" target=\"_parent\"><img src=\"https://colab.research.google.com/assets/colab-badge.svg\" alt=\"Open In Colab\"/></a>"
      ]
    },
    {
      "cell_type": "markdown",
      "metadata": {
        "id": "bo3Sn7UzC83n"
      },
      "source": [
        "# This is the Machine Learning Model for Tribology Research 2023."
      ]
    },
    {
      "cell_type": "markdown",
      "metadata": {
        "id": "hXfjUAr9DC8J"
      },
      "source": [
        "### Let's Convert Particle Images using Otsu's Binary Threshold."
      ]
    },
    {
      "cell_type": "markdown",
      "metadata": {
        "id": "7XCRQ56yf45U"
      },
      "source": [
        "Thresholding Algorithm: https://www.bogotobogo.com/python/OpenCV_Python/python_opencv3_Image_Watershed_Algorithm_Marker_Based_Segmentation.php"
      ]
    },
    {
      "cell_type": "code",
      "execution_count": null,
      "metadata": {
        "id": "PGA3wntYDGDl"
      },
      "outputs": [],
      "source": [
        "# First install OpenCV if not previously installed on computer\n",
        "!pip3 install opencv-python\n",
        "\n",
        "# Install ImageIO for image processing\n",
        "!pip3 install imageio\n",
        "\n",
        "# Download Rolling Ball for T=thresholding sequence\n",
        "!pip install opencv-rolling-ball\n",
        "\n",
        "# Download split-image just in case we need to split images\n",
        "!pip install split-image\n",
        "\n",
        "# PyBasics is a shading correction Python \n",
        "# !pip install pybasics"
      ]
    },
    {
      "cell_type": "code",
      "execution_count": null,
      "metadata": {
        "id": "OQOmTedzEaXm"
      },
      "outputs": [],
      "source": [
        "# Gain access to the Krauss Tribology Lab Google Drive\n",
        "from google.colab import drive\n",
        "drive.mount('/content/gdrive')"
      ]
    },
    {
      "cell_type": "code",
      "execution_count": null,
      "metadata": {
        "id": "JjbtvccxFLno"
      },
      "outputs": [],
      "source": [
        "# Change working directory\n",
        "%cd '/content/gdrive/Shareddrives/Krauss Tribology Research/Fall 2022 - Spring 2023/Pictures/Encoded Pictures'"
      ]
    },
    {
      "cell_type": "code",
      "execution_count": null,
      "metadata": {
        "id": "6YKfCy2cDchC"
      },
      "outputs": [],
      "source": [
        "# Import necessary modules\n",
        "import numpy as np\n",
        "import matplotlib.pyplot as plt\n",
        "import imageio as iio\n",
        "import skimage.color\n",
        "import skimage.filters\n",
        "import os\n",
        "\n",
        "import cv2\n",
        "from PIL import Image\n",
        "import numpy as np\n",
        "from cv2_rolling_ball import subtract_background_rolling_ball\n",
        "from google.colab.patches import cv2_imshow"
      ]
    },
    {
      "cell_type": "code",
      "execution_count": null,
      "metadata": {
        "id": "7z9bj6F8z0YR"
      },
      "outputs": [],
      "source": [
        "# Check current list of items in the directory.\n",
        "%ls"
      ]
    },
    {
      "cell_type": "code",
      "execution_count": null,
      "metadata": {
        "colab": {
          "base_uri": "https://localhost:8080/",
          "height": 368
        },
        "id": "6zDoQCcGHYzb",
        "outputId": "e3c96ce3-8bda-4632-f3fc-469d17742e45"
      },
      "outputs": [
        {
          "output_type": "display_data",
          "data": {
            "text/plain": [
              "<Figure size 640x480 with 1 Axes>"
            ],
            "image/png": "[encoded data removed]"
          },
          "metadata": {}
        }
      ],
      "source": [
        "# Let's create a Black Background\n",
        "\n",
        "import cv2\n",
        "\n",
        "# Define the dimensions of the image\n",
        "width = 1359\n",
        "height = 906\n",
        "\n",
        "# Create a black image with the desired dimensions\n",
        "img = np.zeros((height, width, 3), dtype=np.uint8)\n",
        "img.fill(0)\n",
        "\n",
        "# Display the image\n",
        "plt.axis('off')\n",
        "plt.imshow(img)\n",
        "\n",
        "# Save black background into Google Drive\n",
        "cv2.imwrite(\"black-background.jpg\", img)\n",
        "\n",
        "plt.show()"
      ]
    },
    {
      "cell_type": "code",
      "execution_count": null,
      "metadata": {
        "id": "Oz3RdJ3L8col"
      },
      "outputs": [],
      "source": [
        "# Change directory to the particle training images\n",
        "%cd ..\n",
        "%cd 9-26-2022\n",
        "\n",
        "# Make sure we are in the correct directory (containing %s of additive)\n",
        "%ls"
      ]
    },
    {
      "cell_type": "markdown",
      "source": [
        "### Note: At this time, the shading correction algorithm below does NOT work with our Thresholding algorithm. Rolling ball subtraction and CLAHE are not sufficient enough to evenly shade the background of particle images.\n",
        "\n",
        "### We should work towards finding a better, more optimal solution for the shading corrector. Alternatively, we can manually download the particle images, and apply the shading correction using ImageJ. However, we would like to avoid this manual process because it is very tedious and time-consuming."
      ],
      "metadata": {
        "id": "kk6L-nSX_g5n"
      }
    },
    {
      "cell_type": "code",
      "execution_count": null,
      "metadata": {
        "colab": {
          "background_save": true
        },
        "id": "6iUxJnKWL9Kn"
      },
      "outputs": [],
      "source": [
        "# Let us start off with the 2% Hitec concentration!\n",
        "%cd '2%'\n",
        "\n",
        "\n",
        "# Load the image\n",
        "img = cv2.imread('img1.jpg')              # Can later automate this for ALL images in the folder\n",
        "cv2_imshow(img)\n",
        "\n",
        "# Display correctly colored images; useful for visualization later on\n",
        "b, g, r = cv2.split(img)\n",
        "rgb_img = cv2.merge([r,g,b])\n",
        "\n",
        "# Load the image again, but this time in grayscale\n",
        "img = cv2.imread('img1.jpg', 0)\n",
        "cv2_imshow(img)\n",
        "\n",
        "# Set the radius for rolling ball subtraction --> shading correction\n",
        "radius = 50\n",
        "final_img, background = subtract_background_rolling_ball(img, radius, light_background = True, \n",
        "                                                         use_paraboloid = False, do_presmooth = True)\n",
        "\n",
        "cv2_imshow(final_img)\n",
        "cv2_imshow(background)\n",
        "\n",
        "# Add contrast filter using CLAHE for better visualization\n",
        "clahe = cv2.createCLAHE(clipLimit = 3, tileGridSize = (8, 8))\n",
        "clahe_img = clahe.apply(final_img)\n",
        "cv2_imshow(clahe_img)\n",
        "\n",
        "# Threshold the Image\n",
        "ret, thresh = cv2.threshold(final_img, 0, 255, cv2.THRESH_BINARY_INV + cv2.THRESH_OTSU)\n",
        "\n",
        "# Portray the resulting image\n",
        "plt.subplot(121), plt.imshow(rgb_img)\n",
        "plt.title('Input Image'), plt.xticks([]), plt.yticks([])\n",
        "\n",
        "plt.subplot(122), plt.imshow(thresh, 'gray')\n",
        "plt.title(\"Otus's Binary Threshold\"), plt.xticks([]), plt.yticks([])\n",
        "\n",
        "\n",
        "plt.show()"
      ]
    },
    {
      "cell_type": "markdown",
      "source": [
        "### Below is the code for the ENTIRE shading correction + thresholding sequence for one particle image."
      ],
      "metadata": {
        "id": "tjwVzNMBAJOH"
      }
    },
    {
      "cell_type": "code",
      "execution_count": null,
      "metadata": {
        "id": "NN0AIU-jBXAv"
      },
      "outputs": [],
      "source": [
        "# Let us continue using the 2% Hitec particle images.\n",
        "%cd '2%'\n",
        "\n",
        "# Load the image\n",
        "img = cv2.imread('2% Dispersant Additive Example w/ No Shading Correction.jpg')\n",
        "\n",
        "# Display original and corrected images\n",
        "cv2_imshow(img)\n",
        "b, g, r = cv2.split(img)\n",
        "rgb_img = cv2.merge([r,g,b])\n",
        "\n",
        "# Grayscale the Image\n",
        "img = cv2.imread('2% Dispersant Additive Example w/ No Shading Correction.jpg', 0)\n",
        "cv2_imshow(img)\n",
        "\n",
        "# Apply rolling ball subtraction\n",
        "radius = 50\n",
        "final_img, background = subtract_background_rolling_ball(img, radius, light_background = True,\n",
        "                                                         use_paraboloid = False, do_presmooth = True)\n",
        "\n",
        "### Note: there is no CLAHE in this run ###\n",
        "\n",
        "# Threshold the Image\n",
        "ret, thresh = cv2.threshold(final_img, 0, 255, cv2.THRESH_BINARY_INV + cv2.THRESH_OTSU)\n",
        "\n",
        "# Portray the resulting image\n",
        "plt.subplot(121), plt.imshow(rgb_img)\n",
        "plt.title('Input Image'), plt.xticks([]), plt.yticks([])\n",
        "\n",
        "plt.subplot(122), plt.imshow(thresh, 'gray')\n",
        "plt.title(\"Otus's Binary Threshold\"), plt.xticks([]), plt.yticks([])\n",
        "\n",
        "plt.show()               \n",
        "\n",
        "\n",
        "# Noise removal using morphologyEx() --> we can switch between opening and closing to see which one is better\n",
        "kernel = np.ones((2, 2), np.uint8)\n",
        "opening = cv2.morphologyEx(thresh, cv2.MORPH_OPEN, kernel, iterations = 2)\n",
        "closing = cv2.morphologyEx(thresh, cv2.MORPH_CLOSE, kernel, iterations = 2)\n",
        "\n",
        "# Display the images again\n",
        "plt.subplot(131), plt.imshow(rgb_img)\n",
        "plt.title('Input Image'), plt.xticks([]), plt.yticks([])\n",
        "\n",
        "plt.subplot(132), plt.imshow(thresh, 'gray')\n",
        "plt.title(\"Otus's Binary Threshold\"), plt.xticks([]), plt.yticks([])\n",
        "\n",
        "plt.subplot(133), plt.imshow(closing, 'gray')\n",
        "plt.title(\"morphologyEx\"), plt.xticks([]), plt.yticks([])\n",
        "\n",
        "plt.show()\n",
        "\n",
        "\n",
        "# Dilate our image so that thresholding is much easier to visualize (for ourselves and the computer)\n",
        "# Dilate with respect to the background\n",
        "bg = cv2.dilate(opening, kernel, iterations = 3)\n",
        "\n",
        "# Show the images again\n",
        "plt.subplot(221), plt.imshow(rgb_img)\n",
        "plt.title('Input Image'), plt.xticks([]), plt.yticks([])\n",
        "\n",
        "plt.subplot(222), plt.imshow(thresh, 'gray')\n",
        "plt.title(\"Otus's Binary Threshold\"), plt.xticks([]), plt.yticks([])\n",
        "\n",
        "plt.subplot(223), plt.imshow(closing, 'gray')\n",
        "plt.title(\"morphologyEx:Closing:2x2\"), plt.xticks([]), plt.yticks([])\n",
        "\n",
        "plt.subplot(224), plt.imshow(bg, 'gray')\n",
        "plt.title(\"Dilation\"), plt.xticks([]), plt.yticks([])\n",
        "\n",
        "plt.show()\n",
        "\n",
        "\n",
        "# Apply distance thresholding to increase accuracy for overall threshold\n",
        "dist_transform = cv2.distanceTransform(opening, cv2.DIST_L2, 3)\n",
        "\n",
        "# Overall Threshold\n",
        "ret, fg = cv2.threshold(dist_transform, 0.1 * dist_transform.max(), 255, 0)\n",
        "\n",
        "# Display the images again\n",
        "plt.subplot(321), plt.imshow(rgb_img)\n",
        "plt.title('Input Image'), plt.xticks([]), plt.yticks([])\n",
        "\n",
        "plt.subplot(322), plt.imshow(thresh, 'gray')\n",
        "plt.title(\"Otsu's Binary Threshold\"), plt.xticks([]), plt.yticks([])\n",
        "\n",
        "plt.subplot(323), plt.imshow(closing, 'gray')\n",
        "plt.title(\"morphologyEx:Closing:2x2\"), plt.xticks([]), plt.yticks([])\n",
        "\n",
        "plt.subplot(324), plt.imshow(bg, 'gray')\n",
        "plt.title(\"Dilation\"), plt.xticks([]), plt.yticks([])\n",
        "\n",
        "plt.subplot(325), plt.imshow(dist_transform, 'gray')\n",
        "plt.title(\"Distance Transform\"), plt.xticks([]), plt.yticks([])\n",
        "\n",
        "plt.subplot(326), plt.imshow(fg, 'gray')\n",
        "plt.title(\"Thresholding\"), plt.xticks([]), plt.yticks([])\n",
        "\n",
        "plt.tight_layout()\n",
        "\n",
        "# Save the current 6 images into Google Drive\n",
        "# plt.savefig('images.png',\n",
        "#             bbox_inches='tight',\n",
        "#             pad_inches=0,\n",
        "#             format='png',\n",
        "#             dpi=300)\n",
        "\n",
        "plt.show()\n",
        "\n",
        "\n",
        "# Remove the axes and white border\n",
        "plt.axis('off')\n",
        "fig = plt.imshow(fg, cmap=\"gray\", interpolation='nearest')\n",
        "\n",
        "fig.axes.get_xaxis().set_visible(False)\n",
        "fig.axes.get_yaxis().set_visible(False)\n",
        "\n",
        "# Set directory to Thresholded Images folder\n",
        "%cd ..\n",
        "%cd .. \n",
        "%cd 'Encoded Pictures/Thresholded Images'\n",
        "\n",
        "# Save the image\n",
        "plt.savefig(f'threshold_image1.png',\n",
        "            bbox_inches='tight',\n",
        "            pad_inches=0,\n",
        "            format='png',\n",
        "            dpi=300)\n",
        "\n",
        "plt.show()\n",
        "\n",
        "\n",
        "# Image Resizing to account for particles along the edges of the image\n",
        "image = Image.open(f'threshold_image1.png')\n",
        "print(f\"Original size : {image.size}\") # 1359x906\n",
        "\n",
        "img_resized = image.resize((1200, 800))\n",
        "\n",
        "# Set directory to the Resized Images folder\n",
        "%cd ..\n",
        "%cd 'Resized Images'\n",
        "\n",
        "img_resized.save(f'resized_image1.png')\n",
        "\n",
        "\n",
        "# Overlay the Shrunken Image on the Black Background\n",
        "# Opening the primary image (used in background)\n",
        "%cd ..\n",
        "img1 = Image.open(\"black-background.jpg\")\n",
        "  \n",
        "# Opening the secondary image (overlay image)\n",
        "%cd 'Resized Images'\n",
        "img2 = Image.open(f\"resized_image1.png\")\n",
        "\n",
        "# Pasting img2 image on top of img1 \n",
        "# starting at coordinates (0, 0)\n",
        "img1.paste(img2, (80, 50), mask = img2)\n",
        "  \n",
        "# Displaying the image\n",
        "img1.show()\n",
        "\n",
        "\n",
        "# Set directory to the Resized Images folder\n",
        "%cd ..\n",
        "%cd 'Resulting Images'\n",
        "\n",
        "# Save the image\n",
        "img1.save(f\"resulting_image1.jpeg\", \"JPEG\")\n",
        "\n",
        "\n",
        "# Reset Directory for next iteration\n",
        "%cd ..\n",
        "%cd ..\n",
        "%cd '9-26-2022'"
      ]
    },
    {
      "cell_type": "markdown",
      "metadata": {
        "id": "SNaQzLWaBgYr"
      },
      "source": [
        "### The code cell below contains the thresholding (not shading correction yet) algorithm for ALL images inside a single folder (in this case 2% Hitec)."
      ]
    },
    {
      "cell_type": "markdown",
      "metadata": {
        "id": "tggHEIUGC5Ze"
      },
      "source": [
        "Source for the algorithm referenced once again: https://www.bogotobogo.com/python/OpenCV_Python/python_opencv3_Image_Watershed_Algorithm_Marker_Based_Segmentation.php\n"
      ]
    },
    {
      "cell_type": "code",
      "execution_count": null,
      "metadata": {
        "id": "DXjIc4MgAFOn"
      },
      "outputs": [],
      "source": [
        "# Folder path\n",
        "dir_path = '2%'\n",
        "count = 0\n",
        "\n",
        "# Iterate directory and obtain file count\n",
        "for path in os.listdir(dir_path):\n",
        "    # check if current path is a file\n",
        "    if os.path.isfile(os.path.join(dir_path, path)):\n",
        "        count += 1\n",
        "print('File count:', count)\n",
        "\n",
        "\n",
        "\n",
        "# Reposition Directory\n",
        "%cd '2%'\n",
        "\n",
        "# Thresholding sequence for ALL images in folder\n",
        "for num in range(1, count + 1):\n",
        "  img = cv2.imread(f'img{num}.jpg')\n",
        "  b,g,r = cv2.split(img)\n",
        "  rgb_img = cv2.merge([r,g,b])\n",
        "\n",
        "  # Grayscale the Image\n",
        "  gray = cv2.cvtColor(img, cv2.COLOR_BGR2GRAY)\n",
        "\n",
        "  # Threshold the Image\n",
        "  ret, thresh = cv2.threshold(gray, 0, 255, cv2.THRESH_BINARY_INV + cv2.THRESH_OTSU)\n",
        "\n",
        "  # Portray the resulting image\n",
        "  plt.subplot(121), plt.imshow(rgb_img)\n",
        "  plt.title('Input Image'), plt.xticks([]), plt.yticks([])\n",
        "\n",
        "  plt.subplot(122), plt.imshow(thresh, 'gray')\n",
        "  plt.title(\"Otus's Binary Threshold\"), plt.xticks([]), plt.yticks([])\n",
        "\n",
        "  plt.show()               \n",
        "\n",
        "\n",
        "  # Noise removal using morphologyEx() --> we can switch between opening and closing to see which one is better\n",
        "  kernel = np.ones((2, 2), np.uint8)\n",
        "  opening = cv2.morphologyEx(thresh, cv2.MORPH_OPEN, kernel, iterations = 2)\n",
        "  closing = cv2.morphologyEx(thresh, cv2.MORPH_CLOSE, kernel, iterations = 2)\n",
        "\n",
        "  # Display the images again\n",
        "  plt.subplot(131), plt.imshow(rgb_img)\n",
        "  plt.title('Input Image'), plt.xticks([]), plt.yticks([])\n",
        "\n",
        "  plt.subplot(132), plt.imshow(thresh, 'gray')\n",
        "  plt.title(\"Otus's Binary Threshold\"), plt.xticks([]), plt.yticks([])\n",
        "\n",
        "  plt.subplot(133), plt.imshow(closing, 'gray')\n",
        "  plt.title(\"morphologyEx\"), plt.xticks([]), plt.yticks([])\n",
        "\n",
        "  plt.show()\n",
        "\n",
        "\n",
        "  # Dilate our image so that thresholding is much easier to visualize (for ourselves and the computer)\n",
        "  # Dilate with respect to the background\n",
        "  bg = cv2.dilate(opening, kernel, iterations = 3)\n",
        "\n",
        "  # Show the images again\n",
        "  plt.subplot(221), plt.imshow(rgb_img)\n",
        "  plt.title('Input Image'), plt.xticks([]), plt.yticks([])\n",
        "\n",
        "  plt.subplot(222), plt.imshow(thresh, 'gray')\n",
        "  plt.title(\"Otus's Binary Threshold\"), plt.xticks([]), plt.yticks([])\n",
        "\n",
        "  plt.subplot(223), plt.imshow(closing, 'gray')\n",
        "  plt.title(\"morphologyEx:Closing:2x2\"), plt.xticks([]), plt.yticks([])\n",
        "\n",
        "  plt.subplot(224), plt.imshow(bg, 'gray')\n",
        "  plt.title(\"Dilation\"), plt.xticks([]), plt.yticks([])\n",
        "\n",
        "  plt.show()\n",
        "\n",
        "\n",
        "  # Apply distance thresholding to increase accuracy for overall threshold\n",
        "  dist_transform = cv2.distanceTransform(opening, cv2.DIST_L2, 3)\n",
        "\n",
        "  # Overall Threshold\n",
        "  ret, fg = cv2.threshold(dist_transform, 0.1 * dist_transform.max(), 255, 0)\n",
        "\n",
        "  # Display the images again\n",
        "  plt.subplot(321), plt.imshow(rgb_img)\n",
        "  plt.title('Input Image'), plt.xticks([]), plt.yticks([])\n",
        "\n",
        "  plt.subplot(322), plt.imshow(thresh, 'gray')\n",
        "  plt.title(\"Otsu's Binary Threshold\"), plt.xticks([]), plt.yticks([])\n",
        "\n",
        "  plt.subplot(323), plt.imshow(closing, 'gray')\n",
        "  plt.title(\"morphologyEx:Closing:2x2\"), plt.xticks([]), plt.yticks([])\n",
        "\n",
        "  plt.subplot(324), plt.imshow(bg, 'gray')\n",
        "  plt.title(\"Dilation\"), plt.xticks([]), plt.yticks([])\n",
        "\n",
        "  plt.subplot(325), plt.imshow(dist_transform, 'gray')\n",
        "  plt.title(\"Distance Transform\"), plt.xticks([]), plt.yticks([])\n",
        "\n",
        "  plt.subplot(326), plt.imshow(fg, 'gray')\n",
        "  plt.title(\"Thresholding\"), plt.xticks([]), plt.yticks([])\n",
        "\n",
        "  plt.tight_layout()\n",
        "\n",
        "  # Save the current 6 images into Google Drive\n",
        "  # plt.savefig('images.png',\n",
        "  #             bbox_inches='tight',\n",
        "  #             pad_inches=0,\n",
        "  #             format='png',\n",
        "  #             dpi=300)\n",
        "\n",
        "  plt.show()\n",
        "\n",
        "\n",
        "  # Remove the axes and white border\n",
        "  plt.axis('off')\n",
        "  fig = plt.imshow(fg, cmap=\"gray\", interpolation='nearest')\n",
        "\n",
        "  fig.axes.get_xaxis().set_visible(False)\n",
        "  fig.axes.get_yaxis().set_visible(False)\n",
        "\n",
        "  # Set directory to Thresholded Images folder\n",
        "  %cd ..\n",
        "  %cd .. \n",
        "  %cd 'Encoded Pictures/Thresholded Images'\n",
        "\n",
        "  # Save the image\n",
        "  plt.savefig(f'threshold_image{num}.png',\n",
        "              bbox_inches='tight',\n",
        "              pad_inches=0,\n",
        "              format='png',\n",
        "              dpi=300)\n",
        "\n",
        "  plt.show()\n",
        "\n",
        "\n",
        "  # Image Resizing to account for particles along the edges of the image\n",
        "  image = Image.open(f'threshold_image{num}.png')\n",
        "  print(f\"Original size : {image.size}\") # 1359x906\n",
        "\n",
        "  img_resized = image.resize((1200, 800))\n",
        "\n",
        "  # Set directory to the Resized Images folder\n",
        "  %cd ..\n",
        "  %cd 'Resized Images'\n",
        "\n",
        "  img_resized.save(f'resized_image{num}.png')\n",
        "\n",
        "\n",
        "  # Overlay the Shrunken Image on the Black Background\n",
        "  # Opening the primary image (used in background)\n",
        "  %cd ..\n",
        "  img1 = Image.open(\"black-background.jpg\")\n",
        "    \n",
        "  # Opening the secondary image (overlay image)\n",
        "  %cd 'Resized Images'\n",
        "  img2 = Image.open(f\"resized_image{num}.png\")\n",
        "\n",
        "  # Pasting img2 image on top of img1 \n",
        "  # starting at coordinates (0, 0)\n",
        "  img1.paste(img2, (80, 50), mask = img2)\n",
        "    \n",
        "  # Displaying the image\n",
        "  img1.show()\n",
        "\n",
        "\n",
        "  # Set directory to the Resized Images folder\n",
        "  %cd ..\n",
        "  %cd 'Resulting Images'\n",
        "\n",
        "  # Save the image\n",
        "  img1.save(f\"resulting_image{num}.jpeg\", \"JPEG\")\n",
        "  \n",
        "\n",
        "  # Reset Directory for next iteration\n",
        "  %cd ..\n",
        "  %cd ..\n",
        "  %cd '9-26-2022'"
      ]
    }
  ],
  "metadata": {
    "accelerator": "GPU",
    "colab": {
      "provenance": [],
      "include_colab_link": true
    },
    "gpuClass": "standard",
    "kernelspec": {
      "display_name": "Python 3",
      "name": "python3"
    },
    "language_info": {
      "name": "python"
    }
  },
  "nbformat": 4,
  "nbformat_minor": 0
}